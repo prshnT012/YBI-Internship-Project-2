{
 "cells": [
  {
   "cell_type": "markdown",
   "metadata": {
    "id": "LYzCQYXV6cuW"
   },
   "source": [
    "# **Hand Written Digit Prediction - Classification Analysis**"
   ]
  },
  {
   "cell_type": "markdown",
   "metadata": {
    "id": "1MJogaDz6v9R"
   },
   "source": [
    "This digits dataset consists of 8x8 pixel images of digits. The images attribute of the dataset stores 8x8 arrays of grayscale values for each image. We will use these arrays to visualize the first 4 images. The target attribute of the dataset stores the digit each image represents."
   ]
  },
  {
   "cell_type": "code",
   "execution_count": 1,
   "metadata": {
    "id": "wshNvoaC7e3P"
   },
   "outputs": [],
   "source": [
    "# import library\n",
    "import pandas as pd\n",
    "import numpy as np\n",
    "import matplotlib.pyplot as plt"
   ]
  },
  {
   "cell_type": "code",
   "execution_count": 2,
   "metadata": {
    "id": "OKG6XpsK7q1V"
   },
   "outputs": [],
   "source": [
    "# import data\n",
    "from sklearn.datasets import load_digits"
   ]
  },
  {
   "cell_type": "code",
   "execution_count": 3,
   "metadata": {
    "id": "M4nY2O8w8IEX"
   },
   "outputs": [],
   "source": [
    "df = load_digits()"
   ]
  },
  {
   "cell_type": "code",
   "execution_count": 4,
   "metadata": {
    "id": "QVtFVY-K8Osf",
    "outputId": "3ed38067-dc7d-46cb-b88f-76c9d0152599"
   },
   "outputs": [
    {
     "data": {
      "image/png": "[encoded data removed]",
      "text/plain": [
       "<Figure size 1000x300 with 4 Axes>"
      ]
     },
     "metadata": {},
     "output_type": "display_data"
    }
   ],
   "source": [
    "_, axes = plt.subplots(nrows=1, ncols=4, figsize=(10, 3))\n",
    "for ax, image, lable in zip(axes, df.images, df.target):\n",
    "  ax.set_axis_off()\n",
    "  ax.imshow(image, cmap=plt.cm.gray_r, interpolation=\"nearest\")\n",
    "  ax.set_title(\"Training: %i\" % lable)"
   ]
  },
  {
   "cell_type": "markdown",
   "metadata": {
    "id": "vZpkOh1y9rhU"
   },
   "source": [
    "**Data Preprocessing**"
   ]
  },
  {
   "cell_type": "code",
   "execution_count": 5,
   "metadata": {
    "id": "W13f38JU92wE",
    "outputId": "2063d9a9-09ae-46ab-fec4-1bf86a035018"
   },
   "outputs": [
    {
     "data": {
      "text/plain": [
       "(1797, 8, 8)"
      ]
     },
     "execution_count": 5,
     "metadata": {},
     "output_type": "execute_result"
    }
   ],
   "source": [
    "df.images.shape"
   ]
  },
  {
   "cell_type": "code",
   "execution_count": 6,
   "metadata": {
    "id": "L9sKabIN95xM",
    "outputId": "2c94c570-1ec2-4a37-e69b-0cf0c386e77f"
   },
   "outputs": [
    {
     "data": {
      "text/plain": [
       "array([[ 0.,  0.,  5., 13.,  9.,  1.,  0.,  0.],\n",
       "       [ 0.,  0., 13., 15., 10., 15.,  5.,  0.],\n",
       "       [ 0.,  3., 15.,  2.,  0., 11.,  8.,  0.],\n",
       "       [ 0.,  4., 12.,  0.,  0.,  8.,  8.,  0.],\n",
       "       [ 0.,  5.,  8.,  0.,  0.,  9.,  8.,  0.],\n",
       "       [ 0.,  4., 11.,  0.,  1., 12.,  7.,  0.],\n",
       "       [ 0.,  2., 14.,  5., 10., 12.,  0.,  0.],\n",
       "       [ 0.,  0.,  6., 13., 10.,  0.,  0.,  0.]])"
      ]
     },
     "execution_count": 6,
     "metadata": {},
     "output_type": "execute_result"
    }
   ],
   "source": [
    "df.images[0]"
   ]
  },
  {
   "cell_type": "code",
   "execution_count": 7,
   "metadata": {
    "id": "bqywhipL98oc",
    "outputId": "5cffd7bd-87bf-49fd-afd2-0f8e1939e91b"
   },
   "outputs": [
    {
     "data": {
      "text/plain": [
       "(8, 8)"
      ]
     },
     "execution_count": 7,
     "metadata": {},
     "output_type": "execute_result"
    }
   ],
   "source": [
    "df.images[0].shape"
   ]
  },
  {
   "cell_type": "code",
   "execution_count": 8,
   "metadata": {
    "id": "S3D6PRRE-DAI",
    "outputId": "7aa8108a-edd5-4137-a963-8880309a9f7f"
   },
   "outputs": [
    {
     "data": {
      "text/plain": [
       "1797"
      ]
     },
     "execution_count": 8,
     "metadata": {},
     "output_type": "execute_result"
    }
   ],
   "source": [
    "len(df.images)"
   ]
  },
  {
   "cell_type": "code",
   "execution_count": 9,
   "metadata": {
    "id": "GKBsBVBX-Gft"
   },
   "outputs": [],
   "source": [
    "n_samples = len(df.images)"
   ]
  },
  {
   "cell_type": "code",
   "execution_count": 10,
   "metadata": {
    "id": "jkfiC7Vu-avZ"
   },
   "outputs": [],
   "source": [
    "data = df.images.reshape((n_samples, -1))"
   ]
  },
  {
   "cell_type": "code",
   "execution_count": 11,
   "metadata": {
    "id": "QNN-Bhag-r0n",
    "outputId": "09df9166-d6a2-405b-d538-e9ce517d0992"
   },
   "outputs": [
    {
     "data": {
      "text/plain": [
       "array([ 0.,  0.,  5., 13.,  9.,  1.,  0.,  0.,  0.,  0., 13., 15., 10.,\n",
       "       15.,  5.,  0.,  0.,  3., 15.,  2.,  0., 11.,  8.,  0.,  0.,  4.,\n",
       "       12.,  0.,  0.,  8.,  8.,  0.,  0.,  5.,  8.,  0.,  0.,  9.,  8.,\n",
       "        0.,  0.,  4., 11.,  0.,  1., 12.,  7.,  0.,  0.,  2., 14.,  5.,\n",
       "       10., 12.,  0.,  0.,  0.,  0.,  6., 13., 10.,  0.,  0.,  0.])"
      ]
     },
     "execution_count": 11,
     "metadata": {},
     "output_type": "execute_result"
    }
   ],
   "source": [
    "data[0]"
   ]
  },
  {
   "cell_type": "code",
   "execution_count": 12,
   "metadata": {
    "id": "rXKkSvkJ-vDv",
    "outputId": "7bcb898c-10d4-46f6-8e80-606c23301100"
   },
   "outputs": [
    {
     "data": {
      "text/plain": [
       "(64,)"
      ]
     },
     "execution_count": 12,
     "metadata": {},
     "output_type": "execute_result"
    }
   ],
   "source": [
    "data[0].shape"
   ]
  },
  {
   "cell_type": "code",
   "execution_count": 13,
   "metadata": {
    "id": "aRACTsB5-zYo",
    "outputId": "f405b7fe-f79c-4aec-c117-7eda1e263098"
   },
   "outputs": [
    {
     "data": {
      "text/plain": [
       "(1797, 64)"
      ]
     },
     "execution_count": 13,
     "metadata": {},
     "output_type": "execute_result"
    }
   ],
   "source": [
    "data.shape"
   ]
  },
  {
   "cell_type": "markdown",
   "metadata": {
    "id": "Xx9dTJaC-4yO"
   },
   "source": [
    "**Scaling Image Data**"
   ]
  },
  {
   "cell_type": "code",
   "execution_count": 14,
   "metadata": {
    "id": "O8F7-ZxH-9if",
    "outputId": "112f4fa2-4ed3-4304-9521-ff885523e706"
   },
   "outputs": [
    {
     "data": {
      "text/plain": [
       "0.0"
      ]
     },
     "execution_count": 14,
     "metadata": {},
     "output_type": "execute_result"
    }
   ],
   "source": [
    "data.min()\n"
   ]
  },
  {
   "cell_type": "code",
   "execution_count": 15,
   "metadata": {
    "id": "HzVDxB4R_Ipv",
    "outputId": "d786829b-e9c4-4b9e-95d2-5260cbc47248"
   },
   "outputs": [
    {
     "data": {
      "text/plain": [
       "16.0"
      ]
     },
     "execution_count": 15,
     "metadata": {},
     "output_type": "execute_result"
    }
   ],
   "source": [
    "data.max()"
   ]
  },
  {
   "cell_type": "code",
   "execution_count": 16,
   "metadata": {
    "id": "_BvGm3M4_LZn"
   },
   "outputs": [],
   "source": [
    "data = data/16"
   ]
  },
  {
   "cell_type": "code",
   "execution_count": 17,
   "metadata": {
    "id": "cSwj2H3q_QDx",
    "outputId": "1e0e1616-5b93-462b-bc6d-1c7bf1fba06c"
   },
   "outputs": [
    {
     "data": {
      "text/plain": [
       "0.0"
      ]
     },
     "execution_count": 17,
     "metadata": {},
     "output_type": "execute_result"
    }
   ],
   "source": [
    "data.min()"
   ]
  },
  {
   "cell_type": "code",
   "execution_count": 18,
   "metadata": {
    "id": "G3hYSqAB_SrS",
    "outputId": "fccddcfc-82e9-4747-b5a1-918cdfabec58"
   },
   "outputs": [
    {
     "data": {
      "text/plain": [
       "1.0"
      ]
     },
     "execution_count": 18,
     "metadata": {},
     "output_type": "execute_result"
    }
   ],
   "source": [
    "data.max()"
   ]
  },
  {
   "cell_type": "code",
   "execution_count": 19,
   "metadata": {
    "id": "ePv_yytf_XPk",
    "outputId": "6edb9edc-79d3-4a17-f41a-654a28265567"
   },
   "outputs": [
    {
     "data": {
      "text/plain": [
       "array([0.    , 0.    , 0.3125, 0.8125, 0.5625, 0.0625, 0.    , 0.    ,\n",
       "       0.    , 0.    , 0.8125, 0.9375, 0.625 , 0.9375, 0.3125, 0.    ,\n",
       "       0.    , 0.1875, 0.9375, 0.125 , 0.    , 0.6875, 0.5   , 0.    ,\n",
       "       0.    , 0.25  , 0.75  , 0.    , 0.    , 0.5   , 0.5   , 0.    ,\n",
       "       0.    , 0.3125, 0.5   , 0.    , 0.    , 0.5625, 0.5   , 0.    ,\n",
       "       0.    , 0.25  , 0.6875, 0.    , 0.0625, 0.75  , 0.4375, 0.    ,\n",
       "       0.    , 0.125 , 0.875 , 0.3125, 0.625 , 0.75  , 0.    , 0.    ,\n",
       "       0.    , 0.    , 0.375 , 0.8125, 0.625 , 0.    , 0.    , 0.    ])"
      ]
     },
     "execution_count": 19,
     "metadata": {},
     "output_type": "execute_result"
    }
   ],
   "source": [
    "data[0]"
   ]
  },
  {
   "cell_type": "markdown",
   "metadata": {
    "id": "7wHOc3jV_iOi"
   },
   "source": [
    "**Train Test Split Data**"
   ]
  },
  {
   "cell_type": "code",
   "execution_count": 20,
   "metadata": {
    "id": "r21I05g2_orf"
   },
   "outputs": [],
   "source": [
    "from sklearn.model_selection import train_test_split"
   ]
  },
  {
   "cell_type": "code",
   "execution_count": 21,
   "metadata": {
    "id": "NkefONkq_xZv"
   },
   "outputs": [],
   "source": [
    "x_train, x_test, y_train, y_test = train_test_split(data, df.target, test_size=0.3)"
   ]
  },
  {
   "cell_type": "code",
   "execution_count": 22,
   "metadata": {
    "id": "76RDwn2AALoQ",
    "outputId": "58e9fa14-bcb3-48f5-c40d-915f155162d0"
   },
   "outputs": [
    {
     "data": {
      "text/plain": [
       "((1257, 64), (540, 64), (1257,), (540,))"
      ]
     },
     "execution_count": 22,
     "metadata": {},
     "output_type": "execute_result"
    }
   ],
   "source": [
    "x_train.shape, x_test.shape, y_train.shape, y_test.shape"
   ]
  },
  {
   "cell_type": "markdown",
   "metadata": {
    "id": "Y2QG4Jz-AavC"
   },
   "source": [
    "**Random Forest Model**"
   ]
  },
  {
   "cell_type": "code",
   "execution_count": 23,
   "metadata": {
    "id": "8a7rpIx5AfXm"
   },
   "outputs": [],
   "source": [
    "from sklearn.ensemble import RandomForestClassifier"
   ]
  },
  {
   "cell_type": "code",
   "execution_count": 24,
   "metadata": {
    "id": "FPPxhINXAyTm"
   },
   "outputs": [],
   "source": [
    "rf = RandomForestClassifier()"
   ]
  },
  {
   "cell_type": "code",
   "execution_count": 25,
   "metadata": {
    "id": "PIUg7MBDA3nW",
    "outputId": "7c863f95-f26b-4fa0-aa92-9608023f7dd0"
   },
   "outputs": [
    {
     "data": {
      "text/html": [
       "<style>#sk-container-id-1 {color: black;}#sk-container-id-1 pre{padding: 0;}#sk-container-id-1 div.sk-toggleable {background-color: white;}#sk-container-id-1 label.sk-toggleable__label {cursor: pointer;display: block;width: 100%;margin-bottom: 0;padding: 0.3em;box-sizing: border-box;text-align: center;}#sk-container-id-1 label.sk-toggleable__label-arrow:before {content: \"▸\";float: left;margin-right: 0.25em;color: #696969;}#sk-container-id-1 label.sk-toggleable__label-arrow:hover:before {color: black;}#sk-container-id-1 div.sk-estimator:hover label.sk-toggleable__label-arrow:before {color: black;}#sk-container-id-1 div.sk-toggleable__content {max-height: 0;max-width: 0;overflow: hidden;text-align: left;background-color: #f0f8ff;}#sk-container-id-1 div.sk-toggleable__content pre {margin: 0.2em;color: black;border-radius: 0.25em;background-color: #f0f8ff;}#sk-container-id-1 input.sk-toggleable__control:checked~div.sk-toggleable__content {max-height: 200px;max-width: 100%;overflow: auto;}#sk-container-id-1 input.sk-toggleable__control:checked~label.sk-toggleable__label-arrow:before {content: \"▾\";}#sk-container-id-1 div.sk-estimator input.sk-toggleable__control:checked~label.sk-toggleable__label {background-color: #d4ebff;}#sk-container-id-1 div.sk-label input.sk-toggleable__control:checked~label.sk-toggleable__label {background-color: #d4ebff;}#sk-container-id-1 input.sk-hidden--visually {border: 0;clip: rect(1px 1px 1px 1px);clip: rect(1px, 1px, 1px, 1px);height: 1px;margin: -1px;overflow: hidden;padding: 0;position: absolute;width: 1px;}#sk-container-id-1 div.sk-estimator {font-family: monospace;background-color: #f0f8ff;border: 1px dotted black;border-radius: 0.25em;box-sizing: border-box;margin-bottom: 0.5em;}#sk-container-id-1 div.sk-estimator:hover {background-color: #d4ebff;}#sk-container-id-1 div.sk-parallel-item::after {content: \"\";width: 100%;border-bottom: 1px solid gray;flex-grow: 1;}#sk-container-id-1 div.sk-label:hover label.sk-toggleable__label {background-color: #d4ebff;}#sk-container-id-1 div.sk-serial::before {content: \"\";position: absolute;border-left: 1px solid gray;box-sizing: border-box;top: 0;bottom: 0;left: 50%;z-index: 0;}#sk-container-id-1 div.sk-serial {display: flex;flex-direction: column;align-items: center;background-color: white;padding-right: 0.2em;padding-left: 0.2em;position: relative;}#sk-container-id-1 div.sk-item {position: relative;z-index: 1;}#sk-container-id-1 div.sk-parallel {display: flex;align-items: stretch;justify-content: center;background-color: white;position: relative;}#sk-container-id-1 div.sk-item::before, #sk-container-id-1 div.sk-parallel-item::before {content: \"\";position: absolute;border-left: 1px solid gray;box-sizing: border-box;top: 0;bottom: 0;left: 50%;z-index: -1;}#sk-container-id-1 div.sk-parallel-item {display: flex;flex-direction: column;z-index: 1;position: relative;background-color: white;}#sk-container-id-1 div.sk-parallel-item:first-child::after {align-self: flex-end;width: 50%;}#sk-container-id-1 div.sk-parallel-item:last-child::after {align-self: flex-start;width: 50%;}#sk-container-id-1 div.sk-parallel-item:only-child::after {width: 0;}#sk-container-id-1 div.sk-dashed-wrapped {border: 1px dashed gray;margin: 0 0.4em 0.5em 0.4em;box-sizing: border-box;padding-bottom: 0.4em;background-color: white;}#sk-container-id-1 div.sk-label label {font-family: monospace;font-weight: bold;display: inline-block;line-height: 1.2em;}#sk-container-id-1 div.sk-label-container {text-align: center;}#sk-container-id-1 div.sk-container {/* jupyter's `normalize.less` sets `[hidden] { display: none; }` but bootstrap.min.css set `[hidden] { display: none !important; }` so we also need the `!important` here to be able to override the default hidden behavior on the sphinx rendered scikit-learn.org. See: https://github.com/scikit-learn/scikit-learn/issues/21755 */display: inline-block !important;position: relative;}#sk-container-id-1 div.sk-text-repr-fallback {display: none;}</style><div id=\"sk-container-id-1\" class=\"sk-top-container\"><div class=\"sk-text-repr-fallback\"><pre>RandomForestClassifier()</pre><b>In a Jupyter environment, please rerun this cell to show the HTML representation or trust the notebook. <br />On GitHub, the HTML representation is unable to render, please try loading this page with nbviewer.org.</b></div><div class=\"sk-container\" hidden><div class=\"sk-item\"><div class=\"sk-estimator sk-toggleable\"><input class=\"sk-toggleable__control sk-hidden--visually\" id=\"sk-estimator-id-1\" type=\"checkbox\" checked><label for=\"sk-estimator-id-1\" class=\"sk-toggleable__label sk-toggleable__label-arrow\">RandomForestClassifier</label><div class=\"sk-toggleable__content\"><pre>RandomForestClassifier()</pre></div></div></div></div></div>"
      ],
      "text/plain": [
       "RandomForestClassifier()"
      ]
     },
     "execution_count": 25,
     "metadata": {},
     "output_type": "execute_result"
    }
   ],
   "source": [
    "rf.fit(x_train, y_train)"
   ]
  },
  {
   "cell_type": "markdown",
   "metadata": {
    "id": "VWUWA-0mBNMm"
   },
   "source": [
    "**Predict Test Data**"
   ]
  },
  {
   "cell_type": "code",
   "execution_count": 26,
   "metadata": {
    "id": "K70PcorOBR_c"
   },
   "outputs": [],
   "source": [
    "y_pred = rf.predict(x_test)"
   ]
  },
  {
   "cell_type": "code",
   "execution_count": 27,
   "metadata": {
    "id": "h9jnsmCsBW3X",
    "outputId": "6af59e9c-5a4a-43b8-d68a-87704c4a2ff2"
   },
   "outputs": [
    {
     "data": {
      "text/plain": [
       "array([5, 5, 9, 5, 1, 8, 1, 3, 5, 2, 2, 6, 1, 5, 2, 8, 1, 1, 2, 1, 0, 1,\n",
       "       0, 2, 9, 8, 1, 6, 8, 4, 9, 2, 9, 0, 6, 0, 7, 0, 1, 8, 3, 9, 0, 1,\n",
       "       4, 8, 3, 8, 9, 0, 5, 9, 4, 2, 7, 0, 0, 9, 6, 2, 8, 4, 7, 9, 4, 8,\n",
       "       3, 5, 3, 8, 6, 4, 5, 9, 0, 4, 5, 3, 2, 0, 2, 2, 7, 3, 0, 6, 5, 9,\n",
       "       7, 4, 0, 6, 0, 1, 4, 6, 0, 4, 0, 6, 8, 7, 8, 5, 8, 3, 3, 0, 5, 1,\n",
       "       3, 0, 5, 0, 1, 8, 7, 1, 8, 9, 4, 1, 2, 0, 3, 2, 7, 2, 0, 4, 2, 7,\n",
       "       7, 5, 6, 7, 4, 1, 4, 0, 4, 5, 6, 3, 5, 4, 5, 7, 4, 1, 4, 8, 3, 6,\n",
       "       2, 2, 3, 4, 8, 6, 0, 7, 7, 2, 0, 7, 2, 8, 9, 7, 5, 8, 9, 9, 3, 6,\n",
       "       8, 2, 5, 7, 5, 0, 1, 3, 8, 1, 8, 0, 9, 1, 3, 4, 9, 7, 5, 8, 1, 9,\n",
       "       9, 0, 9, 3, 6, 3, 5, 3, 1, 6, 2, 6, 3, 3, 2, 4, 7, 8, 5, 6, 1, 6,\n",
       "       9, 2, 2, 4, 4, 8, 9, 9, 3, 3, 8, 9, 5, 8, 6, 0, 4, 6, 4, 9, 4, 6,\n",
       "       0, 2, 8, 4, 7, 2, 2, 5, 3, 6, 5, 0, 2, 1, 3, 7, 0, 9, 5, 3, 9, 2,\n",
       "       1, 1, 3, 8, 0, 2, 7, 8, 4, 5, 1, 4, 4, 3, 4, 4, 8, 1, 7, 6, 3, 2,\n",
       "       7, 4, 5, 9, 7, 4, 0, 8, 4, 2, 2, 5, 2, 9, 3, 0, 6, 9, 9, 9, 9, 9,\n",
       "       2, 1, 5, 7, 0, 7, 2, 8, 0, 0, 8, 7, 0, 0, 4, 3, 9, 2, 0, 5, 8, 6,\n",
       "       8, 7, 6, 1, 5, 0, 3, 5, 4, 7, 2, 1, 7, 7, 7, 3, 6, 9, 6, 7, 8, 5,\n",
       "       2, 7, 7, 3, 1, 3, 2, 5, 8, 1, 7, 5, 8, 6, 5, 8, 6, 8, 4, 9, 5, 5,\n",
       "       4, 5, 5, 2, 1, 2, 0, 4, 7, 4, 9, 5, 3, 7, 9, 0, 3, 8, 1, 6, 9, 6,\n",
       "       1, 1, 7, 3, 6, 4, 8, 0, 1, 5, 8, 3, 0, 3, 5, 1, 7, 0, 1, 5, 5, 1,\n",
       "       7, 6, 9, 8, 9, 0, 3, 2, 5, 9, 5, 0, 9, 7, 0, 2, 3, 5, 0, 8, 8, 6,\n",
       "       2, 5, 2, 2, 1, 8, 0, 2, 7, 7, 3, 6, 1, 4, 5, 0, 1, 0, 8, 3, 7, 4,\n",
       "       3, 0, 9, 1, 4, 6, 0, 7, 7, 2, 7, 5, 4, 1, 6, 6, 4, 6, 1, 1, 8, 8,\n",
       "       0, 7, 0, 2, 9, 5, 9, 1, 4, 3, 0, 6, 1, 8, 4, 2, 6, 2, 5, 2, 9, 4,\n",
       "       0, 8, 2, 8, 8, 3, 3, 6, 5, 4, 1, 9, 3, 3, 0, 6, 5, 4, 8, 4, 5, 7,\n",
       "       4, 1, 0, 3, 8, 6, 2, 0, 7, 2, 5, 1])"
      ]
     },
     "execution_count": 27,
     "metadata": {},
     "output_type": "execute_result"
    }
   ],
   "source": [
    "y_pred"
   ]
  },
  {
   "cell_type": "markdown",
   "metadata": {
    "id": "vHaaCbMzBf1l"
   },
   "source": [
    "**Model Accuracy**"
   ]
  },
  {
   "cell_type": "code",
   "execution_count": 32,
   "metadata": {
    "id": "Husk8S2IBj8z"
   },
   "outputs": [],
   "source": [
    "from sklearn.metrics import confusion_matrix, classification_report,accuracy_score"
   ]
  },
  {
   "cell_type": "code",
   "execution_count": 29,
   "metadata": {
    "id": "UbWfyEr5Bt1Q",
    "outputId": "d102f8c9-b0a0-451d-aaee-1eaca12a008c"
   },
   "outputs": [
    {
     "data": {
      "text/plain": [
       "array([[62,  0,  0,  0,  0,  0,  0,  0,  0,  0],\n",
       "       [ 0, 52,  0,  0,  0,  0,  0,  0,  0,  0],\n",
       "       [ 0,  0, 56,  1,  0,  0,  0,  0,  0,  0],\n",
       "       [ 0,  0,  0, 51,  0,  2,  0,  0,  0,  1],\n",
       "       [ 0,  0,  0,  0, 52,  0,  0,  2,  0,  0],\n",
       "       [ 0,  0,  0,  0,  0, 57,  0,  0,  0,  1],\n",
       "       [ 0,  0,  0,  0,  1,  0, 46,  0,  0,  0],\n",
       "       [ 0,  0,  0,  0,  0,  0,  0, 50,  0,  0],\n",
       "       [ 0,  1,  0,  0,  1,  0,  0,  0, 57,  0],\n",
       "       [ 0,  0,  0,  0,  0,  0,  0,  0,  0, 47]], dtype=int64)"
      ]
     },
     "execution_count": 29,
     "metadata": {},
     "output_type": "execute_result"
    }
   ],
   "source": [
    "confusion_matrix(y_test, y_pred)"
   ]
  },
  {
   "cell_type": "code",
   "execution_count": 30,
   "metadata": {
    "id": "zgQJeo8yB0t9",
    "outputId": "a1ad8a89-2c21-4710-816d-91d12926efb9"
   },
   "outputs": [
    {
     "name": "stdout",
     "output_type": "stream",
     "text": [
      "              precision    recall  f1-score   support\n",
      "\n",
      "           0       1.00      1.00      1.00        62\n",
      "           1       0.98      1.00      0.99        52\n",
      "           2       1.00      0.98      0.99        57\n",
      "           3       0.98      0.94      0.96        54\n",
      "           4       0.96      0.96      0.96        54\n",
      "           5       0.97      0.98      0.97        58\n",
      "           6       1.00      0.98      0.99        47\n",
      "           7       0.96      1.00      0.98        50\n",
      "           8       1.00      0.97      0.98        59\n",
      "           9       0.96      1.00      0.98        47\n",
      "\n",
      "    accuracy                           0.98       540\n",
      "   macro avg       0.98      0.98      0.98       540\n",
      "weighted avg       0.98      0.98      0.98       540\n",
      "\n"
     ]
    }
   ],
   "source": [
    "print(classification_report(y_test, y_pred))"
   ]
  },
  {
   "cell_type": "code",
   "execution_count": 33,
   "metadata": {},
   "outputs": [
    {
     "data": {
      "text/plain": [
       "0.9814814814814815"
      ]
     },
     "execution_count": 33,
     "metadata": {},
     "output_type": "execute_result"
    }
   ],
   "source": [
    "accuracy_score(y_test,y_pred)"
   ]
  },
  {
   "cell_type": "code",
   "execution_count": null,
   "metadata": {},
   "outputs": [],
   "source": []
  }
 ],
 "metadata": {
  "kernelspec": {
   "display_name": "Python 3 (ipykernel)",
   "language": "python",
   "name": "python3"
  },
  "language_info": {
   "codemirror_mode": {
    "name": "ipython",
    "version": 3
   },
   "file_extension": ".py",
   "mimetype": "text/x-python",
   "name": "python",
   "nbconvert_exporter": "python",
   "pygments_lexer": "ipython3",
   "version": "3.11.2"
  }
 },
 "nbformat": 4,
 "nbformat_minor": 4
}
